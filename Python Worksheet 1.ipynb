{
 "cells": [
  {
   "cell_type": "markdown",
   "id": "091429ba",
   "metadata": {},
   "source": [
    "## PYTHON – WORKSHEET 1"
   ]
  },
  {
   "cell_type": "markdown",
   "id": "c1fdbeed",
   "metadata": {},
   "source": [
    "### Q1 to Q8 have only one correct answer. Choose the correct option to answer your question."
   ]
  },
  {
   "cell_type": "markdown",
   "id": "92ed58e3",
   "metadata": {},
   "source": [
    "#### 1.\tWhich of the following operators is used to calculate remainder in a division?"
   ]
  },
  {
   "cell_type": "markdown",
   "id": "9b2a38c2",
   "metadata": {},
   "source": [
    "A) #                         \n",
    "\n",
    "B) &\n",
    "\n",
    "C) %\t               \n",
    "\n",
    "D) $\n"
   ]
  },
  {
   "cell_type": "markdown",
   "id": "dea4bdda",
   "metadata": {},
   "source": [
    "#### Ans: - C) %"
   ]
  },
  {
   "cell_type": "markdown",
   "id": "68aec4b8",
   "metadata": {},
   "source": [
    "### 2.\tIn python 2//3 is equal to?"
   ]
  },
  {
   "cell_type": "markdown",
   "id": "5aee3716",
   "metadata": {},
   "source": [
    "### \n",
    "\n",
    "A) 0.666\t\n",
    "\n",
    "B) 0\n",
    "\n",
    "C) 1\t\n",
    "\n",
    "D) 0.67\n"
   ]
  },
  {
   "cell_type": "markdown",
   "id": "cc545a32",
   "metadata": {},
   "source": [
    "### Ans: - B) 0"
   ]
  },
  {
   "cell_type": "markdown",
   "id": "4207666b",
   "metadata": {},
   "source": [
    "### 3.\tIn python, 6<<2 is equal to?"
   ]
  },
  {
   "cell_type": "markdown",
   "id": "4ece62a9",
   "metadata": {},
   "source": [
    "#### A) 36\t\n",
    "\n",
    "B) 10\n",
    "\n",
    "C) 24\t\n",
    "\n",
    "D) 45\n"
   ]
  },
  {
   "cell_type": "markdown",
   "id": "36e2ef91",
   "metadata": {},
   "source": [
    "### Ans: - C) 24"
   ]
  },
  {
   "cell_type": "markdown",
   "id": "d189f7fb",
   "metadata": {},
   "source": [
    "### 4.\tIn python, 6&2 will give which of the following as output?"
   ]
  },
  {
   "cell_type": "markdown",
   "id": "abb9d3f4",
   "metadata": {},
   "source": [
    "#### \n",
    "A)\t2\n",
    "\n",
    "B) True\n",
    "\n",
    "C) False\n",
    "\n",
    "D) 0\n"
   ]
  },
  {
   "cell_type": "markdown",
   "id": "97797648",
   "metadata": {},
   "source": [
    "### Ans: - A) 2"
   ]
  },
  {
   "cell_type": "markdown",
   "id": "6baa4de0",
   "metadata": {},
   "source": [
    "### 5.\tIn python, 6|2 will give which of the following as output?"
   ]
  },
  {
   "cell_type": "markdown",
   "id": "53b87602",
   "metadata": {},
   "source": [
    "### \n",
    "A)\t2\n",
    "\n",
    "B) 4\n",
    "\n",
    "C) 0\n",
    "\n",
    "D) 6\n"
   ]
  },
  {
   "cell_type": "markdown",
   "id": "c9d7c0ac",
   "metadata": {},
   "source": [
    "### Ans: - D) 6"
   ]
  },
  {
   "cell_type": "markdown",
   "id": "9e5aec5d",
   "metadata": {},
   "source": [
    "### 6.\tWhat does the finally keyword denotes in python?"
   ]
  },
  {
   "cell_type": "markdown",
   "id": "5545a765",
   "metadata": {},
   "source": [
    "#### \n",
    "A)It is used to mark the end of the code\n",
    "\n",
    "B)It encloses the lines of code which will be executed if any error occurs while executing the lines of code in the try block.\n",
    "\n",
    "C)the finally block will be executed no matter if the try block raises an error or not.\n",
    "\n",
    "D)None of the above\n"
   ]
  },
  {
   "cell_type": "markdown",
   "id": "49ac5bd5",
   "metadata": {},
   "source": [
    "#### Ans: - C) the finally block will be executed no matter if the try block raises an error or not."
   ]
  },
  {
   "cell_type": "markdown",
   "id": "b1a8d8b4",
   "metadata": {},
   "source": [
    "### 7.\tWhat does raise keyword is used for in python?"
   ]
  },
  {
   "cell_type": "markdown",
   "id": "6cc5bc36",
   "metadata": {},
   "source": [
    "#### \n",
    "A)It is used to raise an exception.\t\n",
    "\n",
    "B) It is used to define lambda function\n",
    "\n",
    "C) it's not a keyword in python.\n",
    "\n",
    "D) None of the above\n"
   ]
  },
  {
   "cell_type": "markdown",
   "id": "1c5210ec",
   "metadata": {},
   "source": [
    "#### Ans: - A) It is used to raise an exception."
   ]
  },
  {
   "cell_type": "markdown",
   "id": "a4c30f3e",
   "metadata": {},
   "source": [
    "### 8.\tWhich of the following is a common use case of yield keyword in python?"
   ]
  },
  {
   "cell_type": "markdown",
   "id": "118ad35f",
   "metadata": {},
   "source": [
    "#### \n",
    "A)\tin defining an iterator\t\n",
    "\n",
    "B) while defining a lambda function\n",
    "\n",
    "C) in defining a generator\t\n",
    "\n",
    "D) in for loop.\n"
   ]
  },
  {
   "cell_type": "markdown",
   "id": "d9c2e355",
   "metadata": {},
   "source": [
    "#### Ans: - C) in defining a generator."
   ]
  },
  {
   "cell_type": "markdown",
   "id": "8baad0d3",
   "metadata": {},
   "source": [
    "### Q9 and Q10 have multiple correct answers. Choose all the correct options to answer your question."
   ]
  },
  {
   "cell_type": "markdown",
   "id": "4929b65d",
   "metadata": {},
   "source": [
    "### 9.\tWhich of the following are the valid variable names?"
   ]
  },
  {
   "cell_type": "markdown",
   "id": "16475af3",
   "metadata": {},
   "source": [
    "#### \n",
    "A)\t_abc\t\n",
    "\n",
    "B) 1abc\n",
    "\n",
    "C) abc2\t\n",
    "\n",
    "D) None of the above\n"
   ]
  },
  {
   "cell_type": "markdown",
   "id": "0929675e",
   "metadata": {},
   "source": [
    "### Ans: - \n",
    "A) _abc’\n",
    "\n",
    "C)abc2"
   ]
  },
  {
   "cell_type": "markdown",
   "id": "71ace045",
   "metadata": {},
   "source": [
    "### 10.\tWhich of the following are the keywords in python?"
   ]
  },
  {
   "cell_type": "markdown",
   "id": "46b2b3e6",
   "metadata": {},
   "source": [
    "### \n",
    "A)\tyield\t\n",
    "\n",
    "B) raise\n",
    "\n",
    "C) look-in\t\n",
    "\n",
    "D) all of the above\n"
   ]
  },
  {
   "cell_type": "markdown",
   "id": "857c2af1",
   "metadata": {},
   "source": [
    "### Ans: - \n",
    "A) Yield\n",
    "\n",
    "B)Raise\n"
   ]
  },
  {
   "cell_type": "markdown",
   "id": "db8a2526",
   "metadata": {},
   "source": [
    "### Q11 to Q15 are programming questions. Answer them in Jupyter Notebook."
   ]
  },
  {
   "cell_type": "markdown",
   "id": "7839989d",
   "metadata": {},
   "source": [
    "### 11.\tWrite a python program to find the factorial of a number."
   ]
  },
  {
   "cell_type": "code",
   "execution_count": 3,
   "id": "65d70f78",
   "metadata": {},
   "outputs": [
    {
     "name": "stdout",
     "output_type": "stream",
     "text": [
      "Enter a number: 2\n",
      "The factorial of the number is 2\n"
     ]
    }
   ],
   "source": [
    "a = int(input(\"Enter a number: \")) \n",
    "f = 1 \n",
    "for i in range(1,a+1): \n",
    "    f = f * i \n",
    "print(f'The factorial of the number is {f}') "
   ]
  },
  {
   "cell_type": "markdown",
   "id": "d41942ae",
   "metadata": {},
   "source": [
    "### 12.\tWrite a python program to find whether a number is prime or composite."
   ]
  },
  {
   "cell_type": "code",
   "execution_count": 4,
   "id": "d7cefe88",
   "metadata": {},
   "outputs": [
    {
     "name": "stdout",
     "output_type": "stream",
     "text": [
      "Enter any number : 2\n",
      "2 is a PRIME number\n"
     ]
    }
   ],
   "source": [
    "num = int(input(\"Enter any number : \"))\n",
    "if num > 1:\n",
    "    for i in range(2, num):\n",
    "        if (num % i) == 0:\n",
    "            print(num, \"is NOT a prime number\")\n",
    "            break\n",
    "    else:\n",
    "        print(num, \"is a PRIME number\")\n",
    "elif num == 0 or 1:\n",
    "    print(num, \"is a neither prime NOR composite number\")\n",
    "else:\n",
    "    print(num, \"is NOT a prime number it is a COMPOSITE number\")"
   ]
  },
  {
   "cell_type": "markdown",
   "id": "a800b870",
   "metadata": {},
   "source": [
    "### 13.\tWrite a python program to check whether a given string is palindrome or not."
   ]
  },
  {
   "cell_type": "code",
   "execution_count": 5,
   "id": "6f4dbb45",
   "metadata": {},
   "outputs": [
    {
     "name": "stdout",
     "output_type": "stream",
     "text": [
      "Yes\n"
     ]
    }
   ],
   "source": [
    "def isPalindrome(s):\n",
    "    return s == s[::-1]\n",
    " \n",
    " # Driver code\n",
    "s = \"ABA\"\n",
    "ans = isPalindrome(s)\n",
    " \n",
    "if ans:\n",
    "    print(\"Yes\")\n",
    "else:\n",
    "    print(\"No\")"
   ]
  },
  {
   "cell_type": "markdown",
   "id": "bebb1ca8",
   "metadata": {},
   "source": [
    "### 14.\tWrite a Python program to get the third side of right-angled triangle from two given sides."
   ]
  },
  {
   "cell_type": "code",
   "execution_count": 7,
   "id": "1c6ebf1b",
   "metadata": {},
   "outputs": [
    {
     "name": "stdout",
     "output_type": "stream",
     "text": [
      "Give side a: 2\n",
      "Give side b: 2\n",
      "The length of the hypotenuse c is 2.8284271247461903\n"
     ]
    }
   ],
   "source": [
    "import math\n",
    "a = float(input(\"Give side a: \"))\n",
    "b = float(input(\"Give side b: \"))\n",
    "c = math.sqrt(a ** 2 + b ** 2)\n",
    "print(f\"The length of the hypotenuse c is {c}\")"
   ]
  },
  {
   "cell_type": "markdown",
   "id": "2d13d70e",
   "metadata": {},
   "source": [
    "### 15.\tWrite a python program to print the frequency of each of the characters present in a given string."
   ]
  },
  {
   "cell_type": "code",
   "execution_count": 8,
   "id": "7ba7cdcb",
   "metadata": {},
   "outputs": [
    {
     "name": "stdout",
     "output_type": "stream",
     "text": [
      "D: 2, A: 3, T: 2, A: 3,  : 1, T: 2, R: 1, A: 3, I: 1, N: 1, E: 1, D: 2, "
     ]
    }
   ],
   "source": [
    "string = \"DATA TRAINED\"\n",
    "\n",
    "for i in string:\n",
    "    frequency = string.count(i)\n",
    "    print(str(i) + \": \" + str(frequency), end=\", \")"
   ]
  },
  {
   "cell_type": "code",
   "execution_count": null,
   "id": "53fe3894",
   "metadata": {},
   "outputs": [],
   "source": []
  }
 ],
 "metadata": {
  "kernelspec": {
   "display_name": "Python 3 (ipykernel)",
   "language": "python",
   "name": "python3"
  },
  "language_info": {
   "codemirror_mode": {
    "name": "ipython",
    "version": 3
   },
   "file_extension": ".py",
   "mimetype": "text/x-python",
   "name": "python",
   "nbconvert_exporter": "python",
   "pygments_lexer": "ipython3",
   "version": "3.9.12"
  }
 },
 "nbformat": 4,
 "nbformat_minor": 5
}
